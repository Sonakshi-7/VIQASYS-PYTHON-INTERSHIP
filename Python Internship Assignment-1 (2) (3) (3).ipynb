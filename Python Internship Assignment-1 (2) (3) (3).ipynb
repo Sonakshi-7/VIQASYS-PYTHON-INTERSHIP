{
 "cells": [
  {
   "cell_type": "markdown",
   "metadata": {},
   "source": [
    "___\n",
    "\n",
    "<a href='https://viqasys.com/wp-content/uploads/2021/07/ns1.png'><img src='https://viqasys.com/wp-content/uploads/2021/07/ns1.png'/></a>\n",
    "___\n",
    "<center><em>Content Copyright VIQASYS INNOVATIONS PVT LTD.</em></center>\n",
    "\n",
    "# Assignment 1"
   ]
  },
  {
   "cell_type": "markdown",
   "metadata": {},
   "source": [
    "# Question 1\n",
    "\n",
    "In the below elements, identify which of them are values or expressions. Values can be integers or strings, while expressions will be mathematical operators or combinations thereof.\n",
    "'hello', \n",
    "-87., ), o, lu, alu, ssion)'(Value))str\" (Value)"
   ]
  },
  {
   "cell_type": "markdown",
   "metadata": {},
   "source": [
    "'hello':- this is a string value.\n",
    "-87. :-this is a floating-point number value.\n",
    "), :-this is not a valid expression or value in python.\n",
    "o :-this could be a string value if quoted like 'o', otherwise its not a valid expression or value .\n",
    "lu :- this is not a valid expression or value in python unless it's a variable name.\n",
    "alu :- similar to lu,this could be a variable name,but it's not a valid expression or value on its own.\n",
    "ssion)'(value))str\"value:- this is not a valid expression or value in python.it seems like a mix of string characters and parentheses without a clear structure."
   ]
  },
  {
   "cell_type": "markdown",
   "metadata": {},
   "source": []
  },
  {
   "cell_type": "markdown",
   "metadata": {},
   "source": [
    "## Question 2\n",
    "\n",
    "Explain the difference between a string and a variable.\n"
   ]
  },
  {
   "cell_type": "markdown",
   "metadata": {},
   "source": [
    "string:\n",
    "       A string is a sequence of characters enclosed in single(') or double (\")quotes. it represents a fixed piece of text data like a word,sentence ,or paragraph. examples :\"hello world!\",\"this is a string with multiple lines\" once created ,the content of a string cannot be changed .\n",
    "\n",
    "variable:\n",
    "        A variable is a named  container that stores a value. think of it like a label attached to a box where you can place different data. the value stored in a variable can be changed later in your program .the data type of the value (e.g.,string,number) can be different.to create a variable ,you assign a value to it using the assignment operator(=) \n"
   ]
  },
  {
   "cell_type": "markdown",
   "metadata": {},
   "source": [
    "## Question 3\n",
    "Describe three different data types commonly used in programming"
   ]
  },
  {
   "cell_type": "markdown",
   "metadata": {},
   "source": [
    "The most commenly used datatype commanly used in programming i.e,\n",
    "1.int:- int data types is basically difine the integer value or whole number used in programming. eg:- 4,67,-98 etc;\n",
    "2. float:- float data types is a such types of data types which basically defines the floating numabers or a decimal number in the programming. eg; 34.875;\n",
    "3. String:- Strings is also a data types which basically defines the sequences of character. Eg; Sonali,Sonakshi;\n"
   ]
  },
  {
   "cell_type": "markdown",
   "metadata": {},
   "source": [
    "## Question 4\n",
    "What is an expression made up of? What is the general purpose of expressions?\n"
   ]
  },
  {
   "cell_type": "markdown",
   "metadata": {},
   "source": [
    "An expression in programming is made up of one or more operands and operators that are combined to produce a value. \n",
    "Expression are fundamental building blocks in programming and play a crucial role in manupulating data,making decisions and controling the flow of a program .like,operands,operators,function and methods;\n",
    "The general purpose of expressions in programming is to compute or evulate values. They are used extensivily in writing algorthims,performing calculations,making decisions ,and controling the flow of a program .here are some common purposes of expressions: 1.performing calculations. 2.making comparison. 3.logical operations. 4.assigning value. 5.function call.   "
   ]
  },
  {
   "cell_type": "markdown",
   "metadata": {},
   "source": [
    "## Question 5\n",
    "\n",
    "\n",
    "Explain the difference between an expression and a statement, using examples if necessary."
   ]
  },
  {
   "cell_type": "markdown",
   "metadata": {},
   "source": [
    "Expression and statements are two fundamentals concepts but they have different purposes.\n",
    "   1.Expression a. An expression is a combination of values,variables ,operators,and function calls that evaluates to a singale value. b. Expression are used to compute values,perform calculations,and represent data.examples of expressions include arithmetic  expressions(e.g.,2+3,x*y),logical expressions(e.g.,a && b,x > y),function calls (e.g.,fun(x,y)),and variable references (e.g.,x,y). c.Expression can be used within statements ,as part of expressions,or as standalone entities.\n",
    "\n",
    "   2.statements a.A statements is a complete instruction that performs an action or task within a program .\n",
    "   b. Statement are used to control the flow of execution ,define behavior,and maanipule data in a program.examples of statements include assignment statements(e.g.,x=5,y=x+3),conditional statements(e.g.,if,else,switch),loop statements (e.g.,for,while,do-while),and function declarations and calls (e.g.,void func(){...},func()).c.statements typically end with a semicolon(;) in languages like C,C++,Java,and javascript, although some languages may have different syntax rules. "
   ]
  },
  {
   "cell_type": "markdown",
   "metadata": {},
   "source": [
    "## Question 6\n",
    "After running the following code, what does the variable \"bacon\" contain?\n",
    "\n",
    "bacon = 22 <br>\n",
    "\n",
    "bacon + 1"
   ]
  },
  {
   "cell_type": "markdown",
   "metadata": {},
   "source": [
    "variable bacon contain 23.\n",
    "\n"
   ]
  },
  {
   "cell_type": "code",
   "execution_count": 15,
   "metadata": {},
   "outputs": [
    {
     "data": {
      "text/plain": [
       "23"
      ]
     },
     "execution_count": 15,
     "metadata": {},
     "output_type": "execute_result"
    }
   ],
   "source": [
    "bacon=22\n",
    "bacon+1\n"
   ]
  },
  {
   "cell_type": "markdown",
   "metadata": {},
   "source": [
    "## Question 7\n",
    "Determine the values of the following two terms:<br>\n",
    "'spam' + 'spamspam'<br>\n",
    "'spam' * 3\n",
    "\n"
   ]
  },
  {
   "cell_type": "markdown",
   "metadata": {},
   "source": [
    "'spam' + 'spamspam': This expression concatenates the string 'spam' with the string 'spamspam'. The result is the string 'spamspamspam'\n",
    "\n",
    "'spam' * 3: This expression repeats the string 'spam' three times. The result is the string 'spamspamspam'.\n",
    "\n",
    "Therefore, the values of the two terms are the same: 'spamspamspam'.\n",
    "\n"
   ]
  },
  {
   "cell_type": "code",
   "execution_count": 14,
   "metadata": {},
   "outputs": [
    {
     "data": {
      "text/plain": [
       "'spamspamspam'"
      ]
     },
     "execution_count": 14,
     "metadata": {},
     "output_type": "execute_result"
    }
   ],
   "source": [
    "'spam'+'spamspam'\n",
    "'spam'*3\n"
   ]
  },
  {
   "cell_type": "markdown",
   "metadata": {},
   "source": [
    "## Question 8\n",
    "\n",
    "Why is \"eggs\" a valid variable name while \"100\" is invalid?"
   ]
  },
  {
   "cell_type": "markdown",
   "metadata": {},
   "source": [
    "\"eggs\" is a valid variable name while \"100\" is invalid because of that a variabkle names cannot begin with a number.\n",
    "\n"
   ]
  },
  {
   "cell_type": "markdown",
   "metadata": {},
   "source": [
    "## Question 9\n",
    "\n",
    "List three functions that can be used to obtain the integer, floating-point number, or string version of a value."
   ]
  },
  {
   "cell_type": "code",
   "execution_count": 13,
   "metadata": {},
   "outputs": [
    {
     "name": "stdout",
     "output_type": "stream",
     "text": [
      "87\n",
      "67.0\n",
      "567\n"
     ]
    }
   ],
   "source": [
    "# Convert a floating-point number to an integer\n",
    "float_num = 87.5637\n",
    "int_num = int(float_num)\n",
    "print(int_num)\n",
    "\n",
    "# Convert an integer to a floating-point number\n",
    "int_num = 67\n",
    "float_num = float(int_num)\n",
    "print(float_num)\n",
    "\n",
    "# Convert an integer to a string\n",
    "int_num = 567\n",
    "str_num = str(int_num)\n",
    "print(str_num)\n"
   ]
  },
  {
   "cell_type": "markdown",
   "metadata": {},
   "source": [
    "## Question 10 \n",
    "Explain why the following expression causes an error and suggest how to fix it:<br>\n",
    "'I have eaten ' + 99 + ' burritos.'\n",
    "\n"
   ]
  },
  {
   "cell_type": "markdown",
   "metadata": {},
   "source": [
    "TypeError: can only concatenate str (not \"int\") to str.\n",
    "\n",
    "this error can be fixed by such a way that\n",
    "\n",
    "'I have eaten' +str(99)+ 'burritos'\n",
    "\n"
   ]
  },
  {
   "cell_type": "code",
   "execution_count": 12,
   "metadata": {},
   "outputs": [
    {
     "data": {
      "text/plain": [
       "'I have eaten99burritos'"
      ]
     },
     "execution_count": 12,
     "metadata": {},
     "output_type": "execute_result"
    }
   ],
   "source": [
    "#the corrected expression i.e,\n",
    "'I have eaten' +str(99)+ 'burritos'\n",
    "\n"
   ]
  },
  {
   "cell_type": "markdown",
   "metadata": {},
   "source": [
    "\n"
   ]
  },
  {
   "cell_type": "markdown",
   "metadata": {},
   "source": [
    "## Question 11\n",
    "Write a Python program to calculate the sum of two numbers and print the result.\n",
    "gative, or zero."
   ]
  },
  {
   "cell_type": "code",
   "execution_count": 9,
   "metadata": {},
   "outputs": [
    {
     "name": "stdout",
     "output_type": "stream",
     "text": [
      "The sum of 15.0 and 18.0 is: 33.0\n",
      "The result is positive.\n"
     ]
    }
   ],
   "source": [
    "def calculate_sum(num1, num2):\n",
    "    # Calculate the sum of the two numbers\n",
    "    result = num1 + num2\n",
    "    \n",
    "    # Print the result\n",
    "    print(\"The sum of\", num1, \"and\", num2, \"is:\", result)\n",
    "    \n",
    "    # Determine if the result is positive, negative, or zero\n",
    "    if result > 0:\n",
    "        print(\"The result is positive.\")\n",
    "    elif result < 0:\n",
    "        print(\"The result is negative.\")\n",
    "    else:\n",
    "        print(\"The result is zero.\")\n",
    "\n",
    "# Input two numbers from the user\n",
    "num1 = float(input(\"Enter the first number: \"))\n",
    "num2 = float(input(\"Enter the second number: \"))\n",
    "\n",
    "# Call the function to calculate the sum and determine the result\n",
    "calculate_sum(num1, num2)\n"
   ]
  },
  {
   "cell_type": "markdown",
   "metadata": {},
   "source": [
    "## Question 12\n",
    "Create a Python program that takes the user's name as input and prints a greeting message.\n",
    "\n"
   ]
  },
  {
   "cell_type": "code",
   "execution_count": 8,
   "metadata": {},
   "outputs": [
    {
     "name": "stdout",
     "output_type": "stream",
     "text": [
      "Pranaam, rani! Welcome to the program.\n"
     ]
    }
   ],
   "source": [
    "def greet_user():\n",
    "    # Ask the user for their name\n",
    "    name = input(\"Enter your name: \")\n",
    "    \n",
    "    # Print a greeting message\n",
    "    print(\"Pranaam,\", name + \"! Welcome to the program.\")\n",
    "\n",
    "# Call the function to greet the user\n",
    "greet_user()\n"
   ]
  },
  {
   "cell_type": "markdown",
   "metadata": {},
   "source": [
    "## Question 13\n",
    "Write a Python program to calculate the area of a rectangle given its length and width. (Assume length and width are provided as inputs.)\n",
    "\n"
   ]
  },
  {
   "cell_type": "code",
   "execution_count": 7,
   "metadata": {},
   "outputs": [
    {
     "name": "stdout",
     "output_type": "stream",
     "text": [
      "The area of the rectangle with length 25.0 and width 28.0 is: 700.0\n"
     ]
    }
   ],
   "source": [
    "def calculate_rectangle_area(length, width):\n",
    "    # Calculate the area of the rectangle\n",
    "    area = length * width\n",
    "    \n",
    "    # Return the calculated area\n",
    "    return area\n",
    "\n",
    "# Input the length and width of the rectangle from the user\n",
    "length = float(input(\"Enter the length of the rectangle: \"))\n",
    "width = float(input(\"Enter the width of the rectangle: \"))\n",
    "\n",
    "# Call the function to calculate the area of the rectangle\n",
    "area = calculate_rectangle_area(length, width)\n",
    "\n",
    "# Print the calculated area\n",
    "print(\"The area of the rectangle with length\", length, \"and width\", width, \"is:\", area)\n"
   ]
  },
  {
   "cell_type": "markdown",
   "metadata": {},
   "source": [
    "## Question 14\n",
    "Create a Python program that asks the user for their age and prints out a message saying whether they are a child, teenager, or adult based on their age.\n",
    "\n"
   ]
  },
  {
   "cell_type": "code",
   "execution_count": 6,
   "metadata": {},
   "outputs": [
    {
     "name": "stdout",
     "output_type": "stream",
     "text": [
      "You are a teenager.\n"
     ]
    }
   ],
   "source": [
    "def check_age_category(age):\n",
    "    # Check the age category based on the provided age\n",
    "    if age < 0:\n",
    "        return \"Invalid age. Please enter a valid age.\"\n",
    "    elif age < 13:\n",
    "        return \"You are a child.\"\n",
    "    elif age < 20:\n",
    "        return \"You are a teenager.\"\n",
    "    else:\n",
    "        return \"You are an adult.\"\n",
    "\n",
    "# Input the age from the user\n",
    "age = int(input(\"Enter your age: \"))\n",
    "\n",
    "# Call the function to check the age category and print the result\n",
    "print(check_age_category(age))\n"
   ]
  },
  {
   "cell_type": "markdown",
   "metadata": {},
   "source": [
    "## Question 15\n",
    "Write a Python program to convert temperature from Celsius to Fahrenheit. (Assume Celsius temperature is provided as input.)\n",
    "\n"
   ]
  },
  {
   "cell_type": "code",
   "execution_count": 5,
   "metadata": {},
   "outputs": [
    {
     "name": "stdout",
     "output_type": "stream",
     "text": [
      "Enter Temperature in Fahrenheit: \n",
      "\n",
      "Equivalent Temperature in Celsius:  -9.444444444444445\n"
     ]
    }
   ],
   "source": [
    "print(\"Enter Temperature in Fahrenheit: \")\n",
    "\n",
    "fahren = float(input())\n",
    "\n",
    "celi = (fahren-32)/1.8\n",
    "\n",
    "print(\"\\nEquivalent Temperature in Celsius: \", celi)\n"
   ]
  },
  {
   "cell_type": "markdown",
   "metadata": {},
   "source": [
    "## Question 16\n",
    "Create a Python program that takes the radius of a circle as input and calculates its area. (Assume the value of pi is 3.14.)\n",
    "\n"
   ]
  },
  {
   "cell_type": "code",
   "execution_count": 4,
   "metadata": {},
   "outputs": [
    {
     "name": "stdout",
     "output_type": "stream",
     "text": [
      "The area of the circle with radius 8.0 is: 201.06176\n"
     ]
    }
   ],
   "source": [
    "def calculate_area(radius):\n",
    "    # Calculate the area of the circle using the formula: π * radius^2\n",
    "    area = 3.14159 * radius ** 2\n",
    "    return area\n",
    "\n",
    "# Input the radius of the circle from the user\n",
    "radius = float(input(\"Enter the radius of the circle: \"))\n",
    "\n",
    "# Call the function to calculate the area\n",
    "area = calculate_area(radius)\n",
    "\n",
    "# Print the result\n",
    "print(\"The area of the circle with radius\", radius, \"is:\", area)\n"
   ]
  },
  {
   "cell_type": "markdown",
   "metadata": {},
   "source": [
    "## Question 17\n",
    "Write a Python program to find the maximum of two numbers entered by the user.\n",
    "\n"
   ]
  },
  {
   "cell_type": "code",
   "execution_count": 3,
   "metadata": {},
   "outputs": [
    {
     "name": "stdout",
     "output_type": "stream",
     "text": [
      "The maximum of 2.0 and 5.0 is: 5.0\n"
     ]
    }
   ],
   "source": [
    "def find_maximum(num1, num2):\n",
    "    # Find the maximum of the two numbers\n",
    "    maximum = max(num1, num2)\n",
    "    return maximum\n",
    "\n",
    "# Input two numbers from the user\n",
    "num1 = float(input(\"Enter the first number: \"))\n",
    "num2 = float(input(\"Enter the second number: \"))\n",
    "\n",
    "# Call the function to find the maximum\n",
    "maximum = find_maximum(num1, num2)\n",
    "\n",
    "# Print the result\n",
    "print(\"The maximum of\", num1, \"and\", num2, \"is:\", maximum)\n"
   ]
  },
  {
   "cell_type": "markdown",
   "metadata": {},
   "source": [
    "## Question 18\n",
    "Create a Python program that asks the user to enter two numbers and prints out their product.\n",
    "\n"
   ]
  },
  {
   "cell_type": "code",
   "execution_count": 2,
   "metadata": {},
   "outputs": [
    {
     "name": "stdout",
     "output_type": "stream",
     "text": [
      "The product of 5.0 and 7.0 is: 35.0\n"
     ]
    }
   ],
   "source": [
    "def calculate_product(num1, num2):\n",
    "    # Calculate the product of the two numbers\n",
    "    product = num1 * num2\n",
    "    return product\n",
    "\n",
    "# Input two numbers from the user\n",
    "num1 = float(input(\"Enter the first number: \"))\n",
    "num2 = float(input(\"Enter the second number: \"))\n",
    "\n",
    "# Call the function to calculate the product\n",
    "product = calculate_product(num1, num2)\n",
    "\n",
    "# Print the result\n",
    "print(\"The product of\", num1, \"and\", num2, \"is:\", product)\n"
   ]
  },
  {
   "cell_type": "markdown",
   "metadata": {},
   "source": [
    "## Question 19\n",
    "Write a Python program that prompts the user to enter a number and then prints whether the number is positive, negative, or zero."
   ]
  },
  {
   "cell_type": "code",
   "execution_count": 1,
   "metadata": {},
   "outputs": [
    {
     "name": "stdout",
     "output_type": "stream",
     "text": [
      "positive number\n"
     ]
    }
   ],
   "source": [
    "num = float(input(\"enter a number:\"))\n",
    "if num > 0:\n",
    "    print(\"positive number\")\n",
    "elif num == 0: \n",
    "    print(\"zero\") \n",
    "else:\n",
    "    print(\"negative number\")    "
   ]
  }
 ],
 "metadata": {
  "anaconda-cloud": {},
  "kernelspec": {
   "display_name": "Python 3 (ipykernel)",
   "language": "python",
   "name": "python3"
  },
  "language_info": {
   "codemirror_mode": {
    "name": "ipython",
    "version": 3
   },
   "file_extension": ".py",
   "mimetype": "text/x-python",
   "name": "python",
   "nbconvert_exporter": "python",
   "pygments_lexer": "ipython3",
   "version": "3.9.13"
  }
 },
 "nbformat": 4,
 "nbformat_minor": 4
}
